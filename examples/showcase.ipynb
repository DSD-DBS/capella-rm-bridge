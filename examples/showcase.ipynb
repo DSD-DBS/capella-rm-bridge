{
 "cells": [
  {
   "cell_type": "code",
   "execution_count": null,
   "metadata": {},
   "outputs": [],
   "source": [
    "config = {\n",
    "    \"codebeamer\": {\n",
    "        \"base-url\": (BASE_URL := \"https://codebeamer.ssi.dbmc.comp.db.de/api/v3/\"),\n",
    "        \"auth\": {\"username\": \"USER\", \"password\": \"PASSWORD\"},\n",
    "    },\n",
    "    \"trackers\": [\n",
    "        {\n",
    "            \"external-id\": \"5183\",\n",
    "            \"capella-uuid\": \"3be8d0fc-c693-4b9b-8fa1-d59a9eec6ea4\",\n",
    "            \"fields\": [\n",
    "                \"Capella ID\",\n",
    "                \"Business Value\",\n",
    "                \"Type\",\n",
    "                \"Status\",\n",
    "                \"Color\",\n",
    "                \"Submitted at\",\n",
    "                \"Submitted by\",\n",
    "            ],\n",
    "        }\n",
    "    ],\n",
    "    # Only needed for ChangeSet export & application\n",
    "    \"model\": { \"path\": \"model/RM Bridge Show.aird\" }\n",
    "}"
   ]
  },
  {
   "cell_type": "markdown",
   "metadata": {},
   "source": [
    "### (Optional) Personal proxy configurations"
   ]
  },
  {
   "cell_type": "code",
   "execution_count": null,
   "metadata": {},
   "outputs": [],
   "source": [
    "import requests\n",
    "\n",
    "socks = \"socks5h://localhost:23161\"\n",
    "session = requests.Session()\n",
    "session.proxies = {\"http\": socks, \"https\": socks}\n",
    "auth = config[\"codebeamer\"][\"auth\"]\n",
    "session.auth = (auth[\"username\"], auth[\"password\"])"
   ]
  },
  {
   "cell_type": "markdown",
   "metadata": {},
   "source": [
    "### Export a Snapshot from RM Tool (CodebeamerAPI)"
   ]
  },
  {
   "cell_type": "code",
   "execution_count": null,
   "metadata": {},
   "outputs": [],
   "source": [
    "import pathlib\n",
    "import yaml\n",
    "\n",
    "from rm_bridge_codebeamer_importer import codebeamer, export_tracker_snapshots\n",
    "\n",
    "api = codebeamer.CodebeamerAPI.from_config({\"base_url\": BASE_URL, \"session\": session})\n",
    "snapshot = export_tracker_snapshots(api, config)\n",
    "pathlib.Path(\"test_snapshots.yaml\").write_text(\n",
    "    yaml.dump(snapshot), encoding=\"utf-8\"\n",
    ")"
   ]
  },
  {
   "cell_type": "markdown",
   "metadata": {},
   "source": [
    "### Export a ChangeSet (Actions) to synchronize ReqIFElements of a Capella model"
   ]
  },
  {
   "cell_type": "code",
   "execution_count": null,
   "metadata": {},
   "outputs": [],
   "source": [
    "import capellambse\n",
    "import pathlib\n",
    "import yaml\n",
    "\n",
    "from rm_bridge.model_modifier import changeset\n",
    "\n",
    "model = capellambse.MelodyModel(**config[\"model\"])\n",
    "change = changeset.calculate_change_set(model, config, snapshot)\n",
    "pathlib.Path(\"test_changeset.yaml\").write_text(\n",
    "    yaml.dump(change), encoding=\"utf-8\"\n",
    ")"
   ]
  },
  {
   "cell_type": "markdown",
   "metadata": {},
   "source": [
    "### Apply `[Create|Mod|Delete]`Actions to the Capella model"
   ]
  },
  {
   "cell_type": "code",
   "execution_count": null,
   "metadata": {},
   "outputs": [],
   "source": [
    "from rm_bridge.model_modifier import apply_change\n",
    "\n",
    "tracker = config[\"trackers\"][0]\n",
    "model_change = apply_change.ModelChange(model, changeset.find.ReqFinder(model))\n",
    "model_change.apply_changes(\n",
    "    tracker[\"external-id\"],\n",
    "    tracker[\"capella-uuid\"],\n",
    "    change[tracker[\"external-id\"]],\n",
    ")"
   ]
  },
  {
   "cell_type": "markdown",
   "metadata": {},
   "source": [
    "### Write changes to model files"
   ]
  },
  {
   "cell_type": "code",
   "execution_count": null,
   "metadata": {},
   "outputs": [],
   "source": [
    "model.save()"
   ]
  },
  {
   "cell_type": "code",
   "execution_count": null,
   "metadata": {},
   "outputs": [],
   "source": [
    "model.la.requirement_modules[0].folders[0]"
   ]
  },
  {
   "cell_type": "code",
   "execution_count": null,
   "metadata": {},
   "outputs": [],
   "source": [
    "model.la.requirement_modules[0].folders[-1]"
   ]
  },
  {
   "cell_type": "code",
   "execution_count": null,
   "metadata": {},
   "outputs": [],
   "source": [
    "model.by_uuid(\"\")"
   ]
  },
  {
   "cell_type": "code",
   "execution_count": null,
   "metadata": {},
   "outputs": [],
   "source": []
  }
 ],
 "metadata": {
  "kernelspec": {
   "display_name": "Python 3.10.4 ('venv')",
   "language": "python",
   "name": "python3"
  },
  "language_info": {
   "codemirror_mode": {
    "name": "ipython",
    "version": 3
   },
   "file_extension": ".py",
   "mimetype": "text/x-python",
   "name": "python",
   "nbconvert_exporter": "python",
   "pygments_lexer": "ipython3",
   "version": "3.10.4"
  },
  "orig_nbformat": 4,
  "vscode": {
   "interpreter": {
    "hash": "c5ea7dc634d8047a259e5b898f154d237fbe6934b444b1a949475949608d751e"
   }
  }
 },
 "nbformat": 4,
 "nbformat_minor": 2
}
