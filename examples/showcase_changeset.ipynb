{
 "cells": [
  {
   "cell_type": "code",
   "execution_count": 1,
   "metadata": {},
   "outputs": [
    {
     "name": "stdout",
     "output_type": "stream",
     "text": [
      "Help on function calculate_change_set in module rm_bridge.model_modifier.changeset:\n",
      "\n",
      "calculate_change_set(model: 'capellambse.MelodyModel', config: 'cabc.MutableMapping[str, t.Any]', snapshot: 'list[types.TrackerSnapshot]') -> 'dict[int, list[CreateAction | ModAction | DeleteAction]]'\n",
      "    Return a list of actions for a given ``model`` and ``snapshot``.\n",
      "    \n",
      "    The ``ChangeSet`` stores the needed actions to synchronize the\n",
      "    ``model`` with the ``snapshot``. The ``snapshot`` stores modules\n",
      "    which correspond to ``reqif.RequirementsModule``\\ s.\n",
      "\n"
     ]
    }
   ],
   "source": [
    "from rm_bridge.model_modifier import changeset\n",
    "\n",
    "help(changeset.calculate_change_set)"
   ]
  },
  {
   "cell_type": "markdown",
   "metadata": {},
   "source": [
    "### Export a ChangeSet (List of actions) to synchronize ReqIFElements"
   ]
  },
  {
   "cell_type": "code",
   "execution_count": null,
   "metadata": {},
   "outputs": [],
   "source": [
    "import yaml\n",
    "import pathlib\n",
    "import capellambse\n",
    "\n",
    "config = {\n",
    "    \"{{ RM-API-NAME }}\":{\n",
    "        \"base-url\": \"{{ RM-API-URL }}/api/v3/\",\n",
    "        \"auth\": { \"username\": \"user\", \"password\": \"pass\" },\n",
    "    },\n",
    "    \"trackers\": [\n",
    "        {\n",
    "            \"external-id\": \"5183\",\n",
    "            \"capella-uuid\": \"3be8d0fc-c693-4b9b-8fa1-d59a9eec6ea4\",\n",
    "            \"fields\": [\n",
    "                \"Capella ID\",\n",
    "                \"Business Value\"\n",
    "                \"Type\",\n",
    "                \"Status\",\n",
    "                \"Color\",\n",
    "                \"Submitted at\",\n",
    "                \"Submitted by\"\n",
    "            ]\n",
    "        }\n",
    "    ],\n",
    "    \"model\": { \"path\": \"../tests/data/model/RM Bridge.aird\" }\n",
    "}\n",
    "# Assuming you did run the showcase_importer notebook before, else \n",
    "# you'll need tochange the path\n",
    "snapshot = yaml.safe_load(\n",
    "    pathlib.Path(\"test_snapshots.yaml\").read_text(encoding=\"utf-8\")\n",
    ")\n",
    "model = capellambse.MelodyModel(**config[\"model\"])\n",
    "change = changeset.calculate_change_set(model, config, snapshot)"
   ]
  },
  {
   "cell_type": "markdown",
   "metadata": {},
   "source": [
    "## Write changesets to a YAML file"
   ]
  },
  {
   "cell_type": "code",
   "execution_count": null,
   "metadata": {},
   "outputs": [],
   "source": [
    "pathlib.Path(\"test_changeset.yaml\").write_text(\n",
    "    yaml.dump(change), encoding=\"utf-8\"\n",
    ")"
   ]
  }
 ],
 "metadata": {
  "kernelspec": {
   "display_name": "Python 3.10.4 ('venv')",
   "language": "python",
   "name": "python3"
  },
  "language_info": {
   "codemirror_mode": {
    "name": "ipython",
    "version": 3
   },
   "file_extension": ".py",
   "mimetype": "text/x-python",
   "name": "python",
   "nbconvert_exporter": "python",
   "pygments_lexer": "ipython3",
   "version": "3.10.4"
  },
  "orig_nbformat": 4,
  "vscode": {
   "interpreter": {
    "hash": "c5ea7dc634d8047a259e5b898f154d237fbe6934b444b1a949475949608d751e"
   }
  }
 },
 "nbformat": 4,
 "nbformat_minor": 2
}
