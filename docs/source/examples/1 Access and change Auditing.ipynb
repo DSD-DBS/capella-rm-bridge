{
   "cells": [
      {
         "attachments": {},
         "cell_type": "markdown",
         "metadata": {},
         "source": [
            "## Attribute access auditing\n",
            "\n",
            "The `AttributeAuditor` stores all UUIDs of the `ModelObject`s on which specified (or any) attributes where called during the life of the `MelodyModel`. "
         ]
      },
      {
         "cell_type": "code",
         "execution_count": 21,
         "metadata": {},
         "outputs": [
            {
               "name": "stderr",
               "output_type": "stream",
               "text": [
                  "Cannot load PVMT extension: ValueError: Provided model does not have a PropertyValuePkg\n",
                  "Property values are not available in this model\n"
               ]
            }
         ],
         "source": [
            "import capellambse\n",
            "\n",
            "path_to_model = \"../../../tests/data/model/RM Bridge.aird\"\n",
            "model = capellambse.MelodyModel(path_to_model, jupyter_untrusted=True)"
         ]
      },
      {
         "attachments": {},
         "cell_type": "markdown",
         "metadata": {},
         "source": [
            "## Change auditing\n",
            "\n",
            "The `ChangeAuditor` stores the context of all changes (modifications, extensions and deletions) grouped by its UUID on `ModelObject`s with matching type to the specified class-names. "
         ]
      },
      {
         "cell_type": "code",
         "execution_count": 22,
         "metadata": {},
         "outputs": [
            {
               "name": "stdout",
               "output_type": "stream",
               "text": [
                  "3c2d312c-37c9-41b5-8c32-67578fa52dc3\n"
               ]
            }
         ],
         "source": [
            "from rm_bridge import auditing\n",
            "\n",
            "req = model.oa.all_requirements.by_name(\"TestReq1\", single=True)\n",
            "other_req = model.oa.all_requirements[1]\n",
            "with auditing.ChangeAuditor(model) as changes:\n",
            "    print(req.uuid)\n",
            "    req.long_name = \"Not TestReq anymore\"\n",
            "    req.attributes.insert(0, other_req.attributes[0])\n",
            "    del req.attributes[-1]"
         ]
      },
      {
         "cell_type": "code",
         "execution_count": 23,
         "metadata": {},
         "outputs": [
            {
               "name": "stdout",
               "output_type": "stream",
               "text": [
                  "[Modification(parent='3c2d312c-37c9-41b5-8c32-67578fa52dc3',\n",
                  "              attribute='long_name',\n",
                  "              new='Not TestReq anymore',\n",
                  "              old='1'),\n",
                  " Extension(parent='3c2d312c-37c9-41b5-8c32-67578fa52dc3',\n",
                  "           attribute='attributes',\n",
                  "           element='<EnumerationValueAttribute [Enumeration Value Attribute] '\n",
                  "                   \"'' (148bdf2f-6dc2-4a83-833b-596886ce5b07)>\",\n",
                  "           uuid='148bdf2f-6dc2-4a83-833b-596886ce5b07'),\n",
                  " Deletion(parent='3c2d312c-37c9-41b5-8c32-67578fa52dc3',\n",
                  "          attribute='attributes',\n",
                  "          element='<BooleanValueAttribute [Boolean Value Attribute] False '\n",
                  "                  '(dcb8614e-2d1c-4cb3-aa0c-667a297e7489)>',\n",
                  "          uuid='dcb8614e-2d1c-4cb3-aa0c-667a297e7489')]\n"
               ]
            }
         ],
         "source": [
            "import pprint\n",
            "\n",
            "pretty_printer = pprint.PrettyPrinter()\n",
            "\n",
            "pretty_printer.pprint(changes)"
         ]
      },
      {
         "attachments": {},
         "cell_type": "markdown",
         "metadata": {},
         "source": [
            "### Filtering of change-events work via passed class-names"
         ]
      },
      {
         "cell_type": "code",
         "execution_count": 24,
         "metadata": {},
         "outputs": [
            {
               "name": "stdout",
               "output_type": "stream",
               "text": [
                  "<Module (f8e2195d-b5f5-4452-a12b-79233d943d5e)\n",
                  "<Doesn't show up (85d41db2-9e17-438b-95cf-49342452ddf3)\n"
               ]
            }
         ],
         "source": [
            "req_module = model.by_uuid(\"f8e2195d-b5f5-4452-a12b-79233d943d5e\")\n",
            "req = req_module.requirements[0]\n",
            "with auditing.ChangeAuditor(model, {\"RequirementsModule\"}) as changes:\n",
            "    print(f\"<{req_module.long_name} ({req_module.uuid})\")\n",
            "    req_module.long_name = \"Not Module anymore\"\n",
            "    \n",
            "    req.long_name = \"Doesn't show up\"\n",
            "    print(f\"<{req.long_name} ({req.uuid})\")"
         ]
      },
      {
         "cell_type": "code",
         "execution_count": 25,
         "metadata": {},
         "outputs": [
            {
               "name": "stdout",
               "output_type": "stream",
               "text": [
                  "[Modification(parent='f8e2195d-b5f5-4452-a12b-79233d943d5e',\n",
                  "              attribute='long_name',\n",
                  "              new='Not Module anymore',\n",
                  "              old='Module')]\n"
               ]
            }
         ],
         "source": [
            "pretty_printer.pprint(changes)"
         ]
      },
      {
         "cell_type": "code",
         "execution_count": 26,
         "metadata": {},
         "outputs": [
            {
               "name": "stdout",
               "output_type": "stream",
               "text": [
                  "- !!python/object:rm_bridge.auditing.Modification\n",
                  "    attribute: long_name\n",
                  "    new: Not Module anymore\n",
                  "    old: Module\n",
                  "    parent: f8e2195d-b5f5-4452-a12b-79233d943d5e\n",
                  "\n"
               ]
            }
         ],
         "source": [
            "import yaml\n",
            "\n",
            "print(yaml.dump(changes, indent=4))"
         ]
      },
      {
         "attachments": {},
         "cell_type": "markdown",
         "metadata": {},
         "source": [
            "### Writing the change-context to a file\n",
            "\n",
            "Here the `safe_dump` option comes in handy:"
         ]
      },
      {
         "cell_type": "code",
         "execution_count": 27,
         "metadata": {},
         "outputs": [
            {
               "name": "stdout",
               "output_type": "stream",
               "text": [
                  "[\n",
                  "    {\n",
                  "        \"_type\": \"Modification\",\n",
                  "        \"parent\": \"3c2d312c-37c9-41b5-8c32-67578fa52dc3\",\n",
                  "        \"attribute\": \"long_name\",\n",
                  "        \"new\": \"Changed Name\",\n",
                  "        \"old\": \"Not TestReq anymore\"\n",
                  "    },\n",
                  "    {\n",
                  "        \"_type\": \"Extension\",\n",
                  "        \"parent\": \"3c2d312c-37c9-41b5-8c32-67578fa52dc3\",\n",
                  "        \"attribute\": \"attributes\",\n",
                  "        \"element\": \"<EnumerationValueAttribute [Enumeration Value Attribute] '' (15df41af-f2e8-45b5-9d80-882bd45905f5)>\",\n",
                  "        \"uuid\": \"15df41af-f2e8-45b5-9d80-882bd45905f5\"\n",
                  "    },\n",
                  "    {\n",
                  "        \"_type\": \"Deletion\",\n",
                  "        \"parent\": \"3c2d312c-37c9-41b5-8c32-67578fa52dc3\",\n",
                  "        \"attribute\": \"attributes\",\n",
                  "        \"element\": \"<EnumerationValueAttribute [Enumeration Value Attribute] '' (148bdf2f-6dc2-4a83-833b-596886ce5b07)>\",\n",
                  "        \"uuid\": \"148bdf2f-6dc2-4a83-833b-596886ce5b07\"\n",
                  "    }\n",
                  "]\n",
                  "- _type: Modification\n",
                  "  attribute: long_name\n",
                  "  new: Changed Name\n",
                  "  old: Not TestReq anymore\n",
                  "  parent: 3c2d312c-37c9-41b5-8c32-67578fa52dc3\n",
                  "- _type: Extension\n",
                  "  attribute: attributes\n",
                  "  element: <EnumerationValueAttribute [Enumeration Value Attribute] '' (15df41af-f2e8-45b5-9d80-882bd45905f5)>\n",
                  "  parent: 3c2d312c-37c9-41b5-8c32-67578fa52dc3\n",
                  "  uuid: 15df41af-f2e8-45b5-9d80-882bd45905f5\n",
                  "- _type: Deletion\n",
                  "  attribute: attributes\n",
                  "  element: <EnumerationValueAttribute [Enumeration Value Attribute] '' (148bdf2f-6dc2-4a83-833b-596886ce5b07)>\n",
                  "  parent: 3c2d312c-37c9-41b5-8c32-67578fa52dc3\n",
                  "  uuid: 148bdf2f-6dc2-4a83-833b-596886ce5b07\n",
                  "\n"
               ]
            }
         ],
         "source": [
            "import json\n",
            "\n",
            "from capella_rm_bridge import auditing\n",
            "\n",
            "req = model.oa.all_requirements.by_name(\"TestReq1\")\n",
            "with auditing.ChangeAuditor(model) as changes:\n",
            "    req.long_name = \"Changed Name\"\n",
            "    req.attributes.create(\"enum\")\n",
            "    del req.attributes[0]\n",
            "\n",
            "dumpable = auditing.dump(changes)\n",
            "print(json.dumps(dumpable, indent=4))\n",
            "print(yaml.dump(dumpable, indent=2))"
         ]
      }
   ],
   "metadata": {
      "kernelspec": {
         "display_name": "Python 3.10.6 ('venv')",
         "language": "python",
         "name": "python3"
      },
      "language_info": {
         "codemirror_mode": {
            "name": "ipython",
            "version": 3
         },
         "file_extension": ".py",
         "mimetype": "text/x-python",
         "name": "python",
         "nbconvert_exporter": "python",
         "pygments_lexer": "ipython3",
         "version": "3.10.6"
      },
      "orig_nbformat": 4,
      "vscode": {
         "interpreter": {
            "hash": "c5ea7dc634d8047a259e5b898f154d237fbe6934b444b1a949475949608d751e"
         }
      }
   },
   "nbformat": 4,
   "nbformat_minor": 2
}
